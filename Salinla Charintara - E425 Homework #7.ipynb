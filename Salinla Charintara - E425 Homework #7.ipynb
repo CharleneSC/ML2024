{
 "cells": [
  {
   "cell_type": "code",
   "execution_count": 1,
   "metadata": {
    "id": "Q2A8TGhKm3i5"
   },
   "outputs": [],
   "source": [
    "import openai\n",
    "import os\n",
    "import wikipedia"
   ]
  },
  {
   "cell_type": "markdown",
   "metadata": {
    "id": "7E9HEMJSX-3T"
   },
   "source": [
    "# 1.) Set up OpenAI and the enviornment\n"
   ]
  },
  {
   "cell_type": "code",
   "execution_count": 2,
   "metadata": {
    "id": "4zwwdkZDYDZN"
   },
   "outputs": [],
   "source": [
    "apikey = \"sdk-daLaJ7KKC4ExUyGhY20gfWHkT3ghBlbkFJaXFbx9dKHjaNvGFrbyFChBs\"\n",
    "openai.api_key = apikey"
   ]
  },
  {
   "cell_type": "code",
   "execution_count": 3,
   "metadata": {
    "id": "8IiKS0snlpYP"
   },
   "outputs": [],
   "source": [
    "client = openai.OpenAI(\n",
    "    api_key = openai.api_key\n",
    ")"
   ]
  },
  {
   "cell_type": "code",
   "execution_count": 4,
   "metadata": {},
   "outputs": [
    {
     "data": {
      "text/plain": [
       "['API_URL',\n",
       " 'BeautifulSoup',\n",
       " 'Decimal',\n",
       " 'DisambiguationError',\n",
       " 'HTTPTimeoutError',\n",
       " 'ODD_ERROR_MESSAGE',\n",
       " 'PageError',\n",
       " 'RATE_LIMIT',\n",
       " 'RATE_LIMIT_LAST_CALL',\n",
       " 'RATE_LIMIT_MIN_WAIT',\n",
       " 'RedirectError',\n",
       " 'USER_AGENT',\n",
       " 'WikipediaException',\n",
       " 'WikipediaPage',\n",
       " '__builtins__',\n",
       " '__cached__',\n",
       " '__doc__',\n",
       " '__file__',\n",
       " '__loader__',\n",
       " '__name__',\n",
       " '__package__',\n",
       " '__path__',\n",
       " '__spec__',\n",
       " '__version__',\n",
       " 'cache',\n",
       " 'datetime',\n",
       " 'debug',\n",
       " 'donate',\n",
       " 'exceptions',\n",
       " 'geosearch',\n",
       " 'languages',\n",
       " 'page',\n",
       " 'random',\n",
       " 're',\n",
       " 'requests',\n",
       " 'search',\n",
       " 'set_lang',\n",
       " 'set_rate_limiting',\n",
       " 'set_user_agent',\n",
       " 'stdout_encode',\n",
       " 'suggest',\n",
       " 'summary',\n",
       " 'sys',\n",
       " 'time',\n",
       " 'timedelta',\n",
       " 'unicode_literals',\n",
       " 'util',\n",
       " 'wikipedia']"
      ]
     },
     "execution_count": 4,
     "metadata": {},
     "output_type": "execute_result"
    }
   ],
   "source": [
    "dir(wikipedia)"
   ]
  },
  {
   "cell_type": "markdown",
   "metadata": {
    "id": "tOXc5_BTm9HP"
   },
   "source": [
    "# 2.) Use the wikipedia api to get a function that pulls in the text of a wikipedia page"
   ]
  },
  {
   "cell_type": "code",
   "execution_count": 5,
   "metadata": {
    "id": "-v7OYamHlrEB"
   },
   "outputs": [],
   "source": [
    "# To loop through incorrect content in Wikipedia\n",
    "page_titles = [\"Alternative energy\", \"Oil Price\"]\n",
    "page_title = page_titles[0]"
   ]
  },
  {
   "cell_type": "code",
   "execution_count": 6,
   "metadata": {
    "id": "TgY2FkTdmhTH"
   },
   "outputs": [
    {
     "data": {
      "text/plain": [
       "['Renewable energy',\n",
       " 'Sustainable energy',\n",
       " 'Alternative fuel vehicle',\n",
       " 'Alternative Energy Development Board',\n",
       " 'French Alternative Energies and Atomic Energy Commission',\n",
       " 'Energy development',\n",
       " 'Alternative Energy (composition)',\n",
       " 'Wind power',\n",
       " 'Alternative Energy Institute',\n",
       " 'Chevron Corporation']"
      ]
     },
     "execution_count": 6,
     "metadata": {},
     "output_type": "execute_result"
    }
   ],
   "source": [
    "search_results = wikipedia.search(page_title)\n",
    "search_results"
   ]
  },
  {
   "cell_type": "code",
   "execution_count": 7,
   "metadata": {
    "id": "Kw5H5jMlmmS3"
   },
   "outputs": [
    {
     "data": {
      "text/plain": [
       "'Renewable energy, green energy, or low-carbon energy is energy from renewable resources that are naturally replenished on a human timescale. Renewable resources include sunlight, wind, the movement of water, and geothermal heat. Although most renewable energy sources are sustainable, some are not. For example, some biomass sources are considered unsustainable at current rates of exploitation. Renewable energy is often used for electricity generation, heating and cooling. Renewable energy projects are typically large-scale, but they are also suited to rural and remote areas and developing countries, where energy is often crucial in human development.Renewable energy is often deployed together with further electrification, which has several benefits: electricity can move heat or objects efficiently, and is clean at the point of consumption. From 2011 to 2021, renewable energy grew from 20% to 28% of global electricity supply. Use of fossil energy shrank from 68% to 62%, and nuclear from 12% to 10%. The share of hydropower decreased from 16% to 15% while power from sun and wind increased from 2% to 10%. Biomass and geothermal energy grew from 2% to 3%. There are 3,146 gigawatts installed in 135 countries, while 156 countries have laws regulating the renewable energy sector. In 2021, China accounted for almost half of the global increase in renewable electricity.Globally there are over 10 million jobs associated with the renewable energy industries, with solar photovoltaics being the largest renewable employer. Renewable energy systems are rapidly becoming more efficient and cheaper and their share of total energy consumption is increasing, with a large majority of worldwide newly installed electricity capacity being renewable. In most countries, photovoltaic solar or onshore wind are the cheapest new-build electricity.Many nations around the world already have renewable energy contributing more than 20% of their total energy supply, with some generating over half their electricity from renewables. A few countries generate all their electricity using renewable energy. National renewable energy markets are projected to continue to grow strongly in the 2020s and beyond. According to the IEA, to achieve net zero emissions by 2050, 90% of global electricity generation will need to be produced from renewable sources. Some studies say that a global transition to 100% renewable energy across all sectors – power, heat, transport and industry – is feasible and economically viable.Renewable energy resources exist over wide geographical areas, in contrast to fossil fuels, which are concentrated in a limited number of countries. Deployment of renewable energy and energy efficiency technologies is resulting in significant energy security, climate change mitigation, and economic benefits. However renewables are being hindered by hundreds of billions of dollars of fossil fuel subsidies. In international public opinion surveys there is strong support for renewables such as solar power and wind power. In 2022 the International Energy Agency asked countries to solve policy, regulatory, permitting and financing obstacles to adding more renewables, to have a better chance of reaching net zero carbon emissions by 2050.\\n\\n\\n== Overview ==\\n\\n\\n=== Definition ===\\n\\nRenewable energy flows involve natural phenomena such as sunlight, wind, tides, plant growth, and geothermal heat, as the International Energy Agency explains:\\nRenewable energy is derived from natural processes that are replenished constantly. In its various forms, it derives directly from the sun, or from heat generated deep within the earth. Included in the definition is electricity and heat generated from solar, wind, ocean, hydropower, biomass, geothermal resources, and biofuels and hydrogen derived from renewable resources.\\n\\n\\n=== Drivers and benefits ===\\nRenewable energy stands in contrast to fossil fuels, which are being used far more quickly than they are being replenished. Renewable energy resources and significant opportunities for energy efficiency exist over wide geographical areas, in contrast to other energy sources, which are concentrated in a limited number of countries. Rapid deployment of renewable energy and energy efficiency, and technological diversification of energy sources, would result in significant energy security and economic benefits. Solar and wind power have got much cheaper. In some cases it will be cheaper to transition to these sources as opposed to continuing to use the current, inefficient, fossil fuels. It would also reduce environmental pollution such as air pollution caused by the burning of fossil fuels, and improve public health, reduce premature mortalities due to pollution and save associated health costs that could amount to trillions of dollars annually. Multiple analyses of decarbonization strategies have found that quantified health benefits can significantly offset the costs of implementing these strategies.Climate change concerns, coupled with the continuing fall in the costs of some renewable energy equipment, such as wind turbines and solar panels, are driving increased use of renewables. New government spending, regulation and policies helped the industry weather the global financial crisis better than many other sectors. As of 2019, however, according to the International Renewable Energy Agency, renewables overall share in the energy mix (including power, heat and transport) needs to grow six times faster, in order to keep the rise in average global temperatures \"well below\" 2.0 °C (3.6 °F) during the present century, compared to pre-industrial levels.\\n\\n\\n=== Scale ===\\n\\nA household\\'s solar panels, and batteries if they have them, can often either be used for just that household or if connected to an electrical grid can be aggregated with millions of others.  According to the research, a nation must reach a certain point in its growth before it can take use of more renewable energy. In our words, its addition changed how crucial input factors (labor and capital) connect to one another, lowering their overall elasticity and increasing the apparent economies of scale. The United Nations\\' eighth Secretary-General Ban Ki-moon said that renewable energy has the ability to lift the poorest nations to new levels of prosperity. Renewables supply more than 20% of energy in at least 30 nations. Although many countries have various policy targets for longer-term shares of renewable energy these tend to be only for the power sector, including a 40% target of all electricity generated for the European Union by 2030.\\n\\n\\n=== Uses ===\\nRenewable energy often displaces conventional fuels in four areas: electricity generation, hot water/space heating, transportation, and rural (off-grid) energy services.More than a quarter of electricity is generated from renewables as of 2021. One of the efforts to decarbonize transportation is the increased use of electric vehicles (EVs). Despite that and the use of biofuels, such as biojet, less than 4% of transport energy is from renewables. Occasionally hydrogen fuel cells are used for heavy transport. Meanwhile, in the future electrofuels may also play a greater role in decarbonizing hard-to-abate sectors like aviation and maritime shipping.Solar water heating makes an important contribution to renewable heat in many countries, most notably in China, which now has 70% of the global total (180 GWth). Most of these systems are installed on multi-family apartment buildings and meet a portion of the hot water needs of an estimated 50–60 million households in China. Worldwide, total installed solar water heating systems meet a portion of the water heating needs of over 70 million households.\\nHeat pumps provide both heating and cooling, and also flatten the electric demand curve and are thus an increasing priority. Renewable thermal energy is also growing rapidly. About 10% of heating and cooling energy is from renewables.\\n\\n\\n== Mainstream technologies ==\\n\\n\\n=== Solar energy ===\\n\\nSolar energy, radiant light and heat from the sun, is harnessed using a range of ever-evolving technologies such as solar heating, photovoltaics, concentrated solar power (CSP), concentrator photovoltaics, solar architecture and artificial photosynthesis.Most new renewable energy is solar. Solar technologies are broadly characterized as either passive solar or active solar depending on the way they capture, convert, and distribute solar energy. Passive solar techniques include orienting a building to the Sun, selecting materials with favorable thermal mass or light dispersing properties, and designing spaces that naturally circulate air. Active solar technologies encompass solar thermal energy, using solar collectors for heating, and solar power, converting sunlight into electricity either directly using photovoltaics (PV), or indirectly using concentrated solar power (CSP).\\nA photovoltaic system converts light into electrical direct current (DC) by taking advantage of the photoelectric effect. Solar PV has turned into a multi-billion, fast-growing industry, continues to improve its cost-effectiveness, and has the most potential of any renewable technologies together with CSP. Concentrated solar power (CSP) systems use lenses or mirrors and tracking systems to focus a large area of sunlight into a small beam. Commercial concentrated solar power plants were first developed in the 1980s. CSP-Stirling has by far the highest efficiency among all solar energy technologies.\\nIn 2011, the International Energy Agency said that \"the development of affordable, inexhaustible and clean solar energy technologies will have huge longer-term benefits. It will increase countries\\' energy security through reliance on an indigenous, inexhaustible and mostly import-independent resource, enhance sustainability, reduce pollution, lower the costs of mitigating climate change, and keep fossil fuel prices lower than otherwise. These advantages are global. Hence the additional costs of the incentives for early deployment should be considered learning investments; they must be wisely spent and need to be widely shared\". Solar power accounts for 505 GW annually, which is about 2% of the world\\'s electricity. Solar energy can be harnessed anywhere that receives sunlight; however, the amount of solar energy that can be harnessed for electricity generation is influenced by weather conditions, geographic location and time of day.According to chapter 6 of the IPCC 2022 climate mitigation report, the global potential of direct solar energy far exceeds that of any other renewable energy resource. It is well beyond the total amount of energy needed in order to support mitigation over the current century. Australia has the largest proportion of solar electricity in the world, supplying 9.9% of the country\\'s electrical demand in 2020. More than 30 per cent of Australian households now have rooftop solar PV, with a combined capacity exceeding 11 GW.There are, however, environmental implications of scaling up solar energy. In particular, the demand for raw materials such as aluminum poses concerns over the carbon footprint that will result from harvesting raw materials needed to implement solar energy.\\n\\n\\n==== Photovoltaic development ====\\n\\nPhotovoltaics (PV) is rapidly-growing with global capacity increasing from 230 GW at the end of 2015 to 890 GW in 2021.PV uses solar cells assembled into solar panels to convert sunlight into electricity. PV systems range from small, residential and commercial rooftop or building integrated installations, to large utility-scale photovoltaic power station. The predominant PV technology is crystalline silicon, while thin-film solar cell technology accounts for about 10 percent of global photovoltaic deployment. In recent years, PV technology has improved its electricity generating efficiency, reduced the installation cost per watt as well as its energy payback time, and reached grid parity.Building-integrated photovoltaics or \"onsite\" PV systems use existing land and structures and generate power close to where it is consumed.Photovoltaics grew fastest in China between 2016 and 2021 adding 560 GW, more than all advanced economies combined. Solar PV\\'s installed power capacity is poised to surpass that of coal by 2027, becoming the largest in the world. This requires an increase of installed PV capacity to 4,600 GW, of which more than half is expected to be deployed in China and India.Commercial concentrated solar power plants were first developed in the 1980s. As the cost of solar electricity has fallen, the number of grid-connected solar PV systems has grown into the millions and gigawatt-scale solar power stations are being built. Many solar photovoltaic power stations have been built, mainly in Europe, China and the United States. The 1.5 GW Tengger Desert Solar Park, in China is the world\\'s largest PV power station. Many of these plants are integrated with agriculture and some use tracking systems that follow the sun\\'s daily path across the sky to generate more electricity than fixed-mounted systems.\\n\\n\\n==== Solar thermal ====\\n\\n\\n=== Wind power ===\\n\\nAir flow can be used to run wind turbines. Modern utility-scale wind turbines range from around 600 kW to 9 MW of rated power. The power available from the wind is a function of the cube of the wind speed, so as wind speed increases, power output increases up to the maximum output for the particular turbine. Areas where winds are stronger and more constant, such as offshore and high-altitude sites, are preferred locations for wind farms.\\nWind-generated electricity met nearly 4% of global electricity demand in 2015, with nearly 63 GW of new wind power capacity installed. Wind energy was the leading source of new capacity in Europe, the US and Canada, and the second largest in China. In Denmark, wind energy met more than 40% of its electricity demand while Ireland, Portugal and Spain each met nearly 20%.Globally, the long-term technical potential of wind energy is believed to be five times total current global energy production, or 40 times current electricity demand, assuming all practical barriers needed were overcome. This would require wind turbines to be installed over large areas, particularly in areas of higher wind resources, such as offshore, and likely also industrial use of new types of VAWT turbines in addition to the horizontal axis units currently in use. As offshore wind speeds average ~90% greater than that of land, offshore resources can contribute substantially more energy than land-stationed turbines.\\n\\n\\n=== Hydropower ===\\n\\nSince water is about 800 times denser than air, even a slow flowing stream of water, or moderate sea swell, can yield considerable amounts of energy. Water can generate electricity with a conversion efficiency of about 90%, which is the highest rate in renewable energy. There are many forms of water energy:\\n\\nHistorically, hydroelectric power came from constructing large hydroelectric dams and reservoirs, which are still popular in developing countries. The largest of them are the Three Gorges Dam (2003) in China and the Itaipu Dam (1984) built by Brazil and Paraguay.\\nSmall hydro systems are hydroelectric power installations that typically produce up to 50 MW of power. They are often used on small rivers or as a low-impact development on larger rivers. China is the largest producer of hydroelectricity in the world and has more than 45,000 small hydro installations.\\nRun-of-the-river hydroelectricity plants derive energy from rivers without the creation of a large reservoir. The water is typically conveyed along the side of the river valley (using channels, pipes and/or tunnels) until it is high above the valley floor, whereupon it can be allowed to fall through a penstock to drive a turbine. A run-of-river plant may still produce a large amount of electricity, such as the Chief Joseph Dam on the Columbia River in the United States. However many run-of-the-river hydro power plants are micro hydro or pico hydro plants.Hydropower is produced in 150 countries, with the Asia-Pacific region generating 32 percent of global hydropower in 2010. Of the top 50 countries by percentage of electricity generated from renewables, 46 are primarily hydroelectric. There are now seven hydroelectricity stations larger than 10 GW (10,000 MW) worldwide, see table below.\\n\\nMuch hydropower is flexible, thus complementing wind and solar. Wave power, which captures the energy of ocean surface waves, and tidal power, converting the energy of tides, are two forms of hydropower with future potential; however, they are not yet widely employed commercially. A demonstration project operated by the Ocean Renewable Power Company on the coast of Maine, and connected to the grid, harnesses tidal power from the Bay of Fundy, location of the world\\'s highest tidal flow. Ocean thermal energy conversion, which uses the temperature difference between cooler deep and warmer surface waters, currently has no economic feasibility.In 2021, the world renewable hydropower capacity was 1,360 GW. Only a third of the world\\'s estimated hydroelectric potential of 14,000 TWh/year has been developed. New hydropower projects face opposition from local communities due to their large impact, including relocation of communities and flooding of wildlife habitats and farming land. High cost and lead times from permission process, including environmental and risk assessments, with lack of environmental and social acceptance are therefore the primary challenges for new developments. It is popular to repower old dams thereby increasing their efficiency and capacity as well as quicker responsiveness on the grid. Where circumstances permit existing dams such as the Russell Dam built in 1985 may be updated with \"pump back\" facilities for pumped-storage which is useful for peak loads or to support intermittent wind and solar power. Because dispatchable power is more valuable than VRE countries with large hydroelectric developments such as Canada and Norway are spending billions to expand their grids to trade with neighboring countries having limited hydro.\\n\\n\\n=== Bioenergy ===\\n\\nBiomass is biological material derived from living, or recently living organisms. It commonly refers to plants or plant-derived materials. As an energy source, biomass can either be used directly via combustion to produce heat, or indirectly after converting it to various forms of biofuel in solid, liquid or gaseous form. Conversion of biomass to biofuel can be achieved by different methods which are broadly classified into: thermal, chemical, and biochemical methods. Wood was the largest biomass energy source as of 2012; examples include forest residues – such as dead trees, branches and tree stumps, yard clippings, wood chips and even municipal solid waste. Industrial biomass can be grown from numerous types of plants, including miscanthus, switchgrass, hemp, corn, poplar, willow, sorghum, sugarcane, bamboo, and a variety of tree species, ranging from eucalyptus to oil palm (palm oil).\\nPlant energy is produced by crops specifically grown for use as fuel that offer high biomass output per hectare with low input energy. The grain can be used for liquid transportation fuels while the straw can be burned to produce heat or electricity. Plant biomass can also be degraded from cellulose to glucose through a series of chemical treatments, and the resulting sugar can then be used as a first-generation biofuel.\\nBiomass can be converted to other usable forms of energy such as methane gas or transportation fuels such as ethanol and biodiesel. Rotting garbage, and agricultural and human waste, all release methane gas – also called landfill gas or biogas. Crops, such as corn and sugarcane, can be fermented to produce the transportation fuel, ethanol. Biodiesel, another transportation fuel, can be produced from left-over food products such as vegetable oils and animal fats. There is a great deal of research involving algal fuel or algae-derived biomass due to the fact that it is a non-food resource, grows around 20 times faster than other types of food crops, such as corn and soy, and can be grown almost anywhere. Once harvested, it can be fermented to produce biofuels such as ethanol, butanol, and methane, as well as biodiesel and hydrogen. The biomass used for electricity generation varies by region. Forest by-products, such as wood residues, are common in the United States. Agricultural waste is common in Mauritius (sugar cane residue) and Southeast Asia (rice husks).\\nBiomass, biogas and biofuels are burned to produce heat/power and in doing so can harm the environment. Pollutants such as sulphurous oxides (SOx), nitrous oxides (NOx), and particulate matter (PM) are produced from the combustion of biomass. With regards to traditional use of biomass for heating and cooking, the World Health Organization estimates that 3.7 million prematurely died from outdoor air pollution in 2012 while indoor pollution from biomass burning effects over 3 billion people worldwide.Bioenergy global capacity in 2021 was 158 GW. Biofuels avoided 4.4% of global transport fuel demand in 2021.\\n\\n\\n==== Biofuel ====\\n\\nBiofuels include a wide range of fuels which are derived from biomass. The term covers solid, liquid, and gaseous fuels. Liquid biofuels include bioalcohols, such as bioethanol, and oils, such as biodiesel. Gaseous biofuels include biogas, landfill gas and synthetic gas. Bioethanol is an alcohol made by fermenting the sugar components of plant materials and it is made mostly from sugar and starch crops. These include maize, sugarcane and, more recently, sweet sorghum. The latter crop is particularly suitable for growing in dryland conditions, and is being investigated by International Crops Research Institute for the Semi-Arid Tropics for its potential to provide fuel, along with food and animal feed, in arid parts of Asia and Africa.With advanced technology being developed, cellulosic biomass, such as trees and grasses, are also used as feedstocks for ethanol production. Ethanol can be used as a fuel for vehicles in its pure form, but it is usually used as a gasoline additive to increase octane and improve vehicle emissions. Bioethanol is widely used in the United States and in Brazil. The energy costs for producing bio-ethanol are almost equal to, the energy yields from bio-ethanol. However, according to the European Environment Agency, biofuels do not address global warming concerns. Biodiesel is made from vegetable oils, animal fats or recycled greases. It can be used as a fuel for vehicles in its pure form, or more commonly as a diesel additive to reduce levels of particulates, carbon monoxide, and hydrocarbons from diesel-powered vehicles. Biodiesel is produced from oils or fats using transesterification and is the most common biofuel in Europe. Biofuels provided 2.7% of the world\\'s transport fuel in 2010.Policies in more than 80 countries support biofuels demand.Since the 1970s, Brazil has had an ethanol fuel program which has allowed the country to become the world\\'s second largest producer of ethanol (after the United States) and the world\\'s largest exporter. Brazil\\'s ethanol fuel program uses modern equipment and cheap sugarcane as feedstock, and the residual cane-waste (bagasse) is used to produce heat and power. There are no longer light vehicles in Brazil running on pure gasoline.Biojet is expected to be important for short-term reduction of carbon dioxide emissions from long-haul flights.\\n\\n\\n=== Geothermal energy ===\\n\\nHigh temperature geothermal energy is from thermal energy generated and stored in the Earth. Thermal energy is the energy that determines the temperature of matter. Earth\\'s geothermal energy originates from the original formation of the planet and from radioactive decay of minerals (in currently uncertain but possibly roughly equal proportions). The geothermal gradient, which is the difference in temperature between the core of the planet and its surface, drives a continuous conduction of thermal energy in the form of heat from the core to the surface. The adjective geothermal originates from the Greek roots geo, meaning earth, and thermos, meaning heat.\\nThe heat that is used for geothermal energy can be from deep within the Earth, all the way down to Earth\\'s core – 6,400 kilometres (4,000 mi) down. At the core, temperatures may reach over 5,000 °C (9,030 °F). Heat conducts from the core to the surrounding rock. Extremely high temperature and pressure cause some rock to melt, which is commonly known as magma. Magma convects upward since it is lighter than the solid rock. This magma then heats rock and water in the crust, sometimes up to 371 °C (700 °F).Low temperature geothermal refers to the use of the outer crust of the Earth as a thermal battery to facilitate renewable thermal energy for heating and cooling buildings, and other refrigeration and industrial uses. In this form of geothermal, a geothermal heat pump and ground-coupled heat exchanger are used together to move heat energy into the Earth (for cooling) and out of the Earth (for heating) on a varying seasonal basis. Low-temperature geothermal (generally referred to as \"GHP\") is an increasingly important renewable technology because it both reduces total annual energy loads associated with heating and cooling, and it also flattens the electric demand curve eliminating the extreme summer and winter peak electric supply requirements. Thus low temperature geothermal/GHP is becoming an increasing national priority with multiple tax credit support and focus as part of the ongoing movement toward net zero energy.Geothermal power is cost effective, reliable, sustainable, and environmentally friendly, but has historically been limited to areas near tectonic plate boundaries. Recent technological advances have expanded the range and size of viable resources, especially for applications such as home heating, opening a potential for widespread exploitation. Geothermal wells release greenhouse gases trapped deep within the earth, but these emissions are usually much lower per energy unit than those of fossil fuels. As a result, geothermal power has the potential to help mitigate global warming if widely deployed in place of fossil fuels.\\nIn 2017, the United States led the world in geothermal electricity production with 12.9 GW of installed capacity. The largest group of geothermal power plants in the world is located at The Geysers, a geothermal field in California. The Philippines follows the US as the second highest producer of geothermal power in the world, with 1.9 GW of capacity online.Global geothermal capacity in 2021 was 15 GW.\\n\\n\\n== Emerging technologies ==\\nThere are also other renewable energy technologies that are still under development, including cellulosic ethanol, hot-dry-rock geothermal power, and marine energy. These technologies are not yet widely demonstrated or have limited commercialization. Many are on the horizon and may have potential comparable to other renewable energy technologies, but still depend on attracting sufficient attention and research, development and demonstration (RD&D) funding.There are numerous organizations within the academic, federal, and commercial sectors conducting large-scale advanced research in the field of renewable energy. This research spans several areas of focus across the renewable energy spectrum. Most of the research is targeted at improving efficiency and increasing overall energy yields.\\nMultiple government supported research organizations have focused on renewable energy in recent years. Two of the most prominent of these labs are Sandia National Laboratories and the National Renewable Energy Laboratory (NREL), both of which are funded by the United States Department of Energy and supported by various corporate partners.\\n\\n\\n=== Enhanced geothermal system ===\\n\\nEnhanced geothermal systems (EGS) are a new type of geothermal power technology that does not require natural convective hydrothermal resources. The vast majority of geothermal energy within drilling reach is in dry and non-porous rock. EGS technologies \"enhance\" and/or create geothermal resources in this \"hot dry rock (HDR)\" through hydraulic fracturing. EGS and HDR technologies, such as hydrothermal geothermal, are expected to be baseload resources that produce power 24 hours a day like a fossil plant. Distinct from hydrothermal, HDR and EGS may be feasible anywhere in the world, depending on the economic limits of drill depth. Good locations are over deep granite covered by a thick (3–5 km or 1.9–3.1 mi) layer of insulating sediments which slow heat loss. There are HDR and EGS systems currently being developed and tested in France, Australia, Japan, Germany, the U.S., and Switzerland. The largest EGS project in the world is a 25 megawatt demonstration plant currently being developed in the Cooper Basin, Australia. The Cooper Basin has the potential to generate 5,000–10,000 MW.\\n\\n\\n=== Hydrogen ===\\n\\n\\n=== Marine energy ===\\n\\nMarine energy (also sometimes referred to as ocean energy) is the energy carried by ocean waves, tides, salinity, and ocean temperature differences. The movement of water in the world\\'s oceans creates a vast store of kinetic energy, or energy in motion. This energy can be harnessed to generate electricity to power homes, transport and industries. The term marine energy encompasses wave power – power from surface waves, marine current power - power from marine hydrokinetic streams (e.g., the Gulf Stream), and tidal power – obtained from the kinetic energy of large bodies of moving water. Reverse electrodialysis (RED) is a technology for generating electricity by mixing fresh river water and salty sea water in large power cells designed for this purpose; as of 2016, it is being tested at a small scale (50 kW). Offshore wind power is not a form of marine energy, as wind power is derived from the wind, even if the wind turbines are placed over water. The oceans have a tremendous amount of energy and are close to many if not most concentrated populations. Ocean energy has the potential of providing a substantial amount of new renewable energy around the world.\\n\\n\\n=== Passive daytime radiative cooling ===\\n\\nPassive daytime radiative cooling (PDRC) uses the coldness of outer space as a renewable energy source to achieve daytime cooling that can be used in many applications, such as indoor space cooling, outdoor urban heat island mitigation, and solar cell efficiency. PDRC surfaces are designed to be high in solar reflectance to minimize heat gain and strong in longwave infrared (LWIR) thermal radiation heat transfer. On a planetary scale, it has been proposed as a way to slow and reverse global warming. PDRC applications are deployed as sky-facing surfaces, similar to other renewable energy sources such as photovoltaic systems and solar thermal collectors. PDRC became possible with the ability to suppress solar heating using photonic metamaterials, first published in a study by Raman et al. to the scientific community in 2014. PDRC applications for indoor space cooling is growing with an estimated \"market size of ~$27 billion in 2025.\"\\n\\n\\n=== Earth infrared thermal radiation ===\\nEarth emits roughly 1017 W of infrared thermal radiation that flows toward the cold outer space. Solar energy hits the surface and atmosphere of the earth and produces heat. Using various theorized devices like emissive energy harvester (EEH) or thermoradiative diode, this energy flow can be converted into electricity. In theory, this technology can be used during nighttime.\\n\\n\\n=== Others ===\\n\\n\\n==== Algae fuels ====\\n\\nProducing liquid fuels from oil-rich (fat-rich) varieties of algae is an ongoing research topic. Various microalgae grown in open or closed systems are being tried including some systems that can be set up in brownfield and desert lands.\\n\\n\\n==== Water vapor ====\\nCollection of static electricity charges from water droplets on metal surfaces is an experimental technology that would be especially useful in low-income countries with relative air humidity over 60%.\\n\\n\\n==== Nuclear energy ====\\nBreeder reactors could, in principle, extract almost all of the energy contained in uranium or thorium, decreasing fuel requirements by a factor of 100 compared to widely used once-through light water reactors, which extract less than 1% of the energy in the actinide metal (uranium or thorium) mined from the earth. The high fuel-efficiency of breeder reactors could greatly reduce concerns about fuel supply, energy used in mining, and storage of radioactive waste. With seawater uranium extraction (currently too expensive to be economical), there is enough fuel for breeder reactors to satisfy the world\\'s energy needs for 5 billion years at 1983\\'s total energy consumption rate, thus making nuclear energy effectively a renewable energy. In addition to seawater the average crustal granite rocks contain significant quantities of uranium and thorium that with breeder reactors can supply abundant energy for the remaining lifespan of the sun on the main sequence of stellar evolution.\\n\\n\\n==== Artificial photosynthesis ====\\n\\nArtificial photosynthesis uses techniques including nanotechnology to store solar electromagnetic energy in chemical bonds by splitting water to produce hydrogen and then using carbon dioxide to make methanol. Researchers in this field strived to design molecular mimics of photosynthesis that use a wider region of the solar spectrum, employ catalytic systems made from abundant, inexpensive materials that are robust, readily repaired, non-toxic, stable in a variety of environmental conditions and perform more efficiently allowing a greater proportion of photon energy to end up in the storage compounds, i.e., carbohydrates (rather than building and sustaining living cells). However, prominent research faces hurdles, Sun Catalytix a MIT spin-off stopped scaling up their prototype fuel-cell in 2012 because it offers few savings over other ways to make hydrogen from sunlight.\\n\\n\\n== Integration into the energy system and sector coupling ==\\n\\nRenewable energy production from some sources such as wind and solar is more variable and more geographically spread than technology based on fossil fuels and nuclear. While integrating it into the wider energy system is feasible, it does lead to some additional challenges such as increased production volatility and decreased system inertia. Implementation of energy storage, using a wide variety of renewable energy technologies, and implementing a smart grid in which energy is automatically used at the moment it is produced can reduce risks and costs of renewable energy implementation.:\\u200a15–16\\u200aSector coupling of the power generation sector with other sectors may increase flexibility: for example the transport sector can be coupled by charging electric vehicles and sending electricity from vehicle to grid. Similarly the industry sector can be coupled by hydrogen produced by electrolysis, and the buildings sector by thermal energy storage for space heating and cooling.\\n\\n\\n=== Electrical energy storage ===\\n\\nElectrical energy storage is a collection of methods used to store electrical energy. Electrical energy is stored during times when production (especially from intermittent sources such as wind power, tidal power, solar power) exceeds consumption, and returned to the grid when production falls below consumption. Pumped-storage hydroelectricity accounts for more than 85% of all grid power storage. Batteries are increasingly being deployed for storage and grid ancillary services and for domestic storage. Green hydrogen is a more economical means of long-term renewable energy storage, in terms of capital expenditures compared to pumped hydroelectric or batteries.\\n\\n\\n== Market and industry trends ==\\n\\nMost new renewables are solar, followed by wind then hydro then bioenergy. Investment in renewables, especially solar, tends to be more effective in creating jobs than coal, gas or oil. Worldwide, renewables employ about 12 million people as of 2020, with solar PV being the technology employing the most at almost 4 million.\\n\\n\\n=== Cost comparison ===\\nThe International Renewable Energy Agency (IRENA) stated that ~86% (187 GW) of renewable capacity added in 2022 had lower costs than electricity generated from fossil fuels. IRENA also stated that capacity added since 2000 reduced electricity bills in 2022 by at least $520 billion, and that in non-OECD countries, the lifetime savings of 2022 capacity additions will reduce costs by up to $580 billion.\\n* = 2018. All other values for 2019.\\n\\n\\n=== Growth of renewables ===\\n\\nThe results of a recent review of the literature concluded that as greenhouse gas (GHG) emitters begin to be held liable for damages resulting from GHG emissions resulting in climate change, a high value for liability mitigation would provide powerful incentives for deployment of renewable energy technologies.In the decade of 2010–2019, worldwide investment in renewable energy capacity excluding large hydropower amounted to US$2.7 trillion, of which the top countries China contributed US$818 billion, the United States contributed US$392.3 billion, Japan contributed US$210.9 billion, Germany contributed US$183.4 billion, and the United Kingdom contributed US$126.5 billion. This was an increase of over three and possibly four times the equivalent amount invested in the decade of 2000–2009 (no data is available for 2000–2003).As of 2022, an estimated 28% of the world\\'s electricity was generated by renewables. This is up from 19% in 1990.\\n\\n\\n==== Future projections ====\\n\\nA December 2022 report by the IEA forecasts that over 2022-2027, renewables are seen growing by almost 2 400 GW in its main forecast, equal to the entire installed power capacity of China in 2021. This is an 85% acceleration from the previous five years, and almost 30% higher than what the IEA forecast in its 2021 report, making its largest ever upward revision. Renewables are set to account for over 90% of global electricity capacity expansion over the forecast period. To achieve net zero emissions by 2050, IEA believes that 90% of global electricity generation will need to be produced from renewable sources.In June 2022 IEA Executive Director Fatih Birol said that countries should invest more in renewables to \"ease the pressure on consumers from high fossil fuel prices, make our energy systems more secure, and get the world on track to reach our climate goals.”China\\'s five year plan to 2025 includes increasing direct heating by renewables such as geothermal and solar thermal.REPowerEU, the EU plan to escape dependence on fossil Russian gas, is expected to call for much more green hydrogen.After a transitional period, renewable energy production is expected to make up most of the world\\'s energy production. In 2018, the risk management firm, DNV GL, forecasts that the world\\'s primary energy mix will be split equally between fossil and non-fossil sources by 2050.\\n\\n\\n=== Demand ===\\nIn July 2014, WWF and the World Resources Institute convened a discussion among a number of major US companies who had declared their intention to increase their use of renewable energy. These discussions identified a number of \"principles\" which companies seeking greater access to renewable energy considered important market deliverables. These principles included choice (between suppliers and between products), cost competitiveness, longer term fixed price supplies, access to third-party financing vehicles, and collaboration.UK statistics released in September 2020 noted that \"the proportion of demand met from renewables varies from a low of 3.4 per cent (for transport, mainly from biofuels) to highs of over 20 per cent for \\'other final users\\', which is largely the service and commercial sectors that consume relatively large quantities of electricity, and industry\".In some locations, individual households can opt to purchase renewable energy through a consumer green energy program.\\n\\n\\n=== Developing countries ===\\n\\nIn Kenya, the Olkaria V Geothermal Power Station is one of the largest in the world. The Grand Ethiopia Renaissance Dam project incorporates wind turbines. Once completed, Morocco\\'s Ouarzazate Solar Power Station is projected to provide power to over a million people.\\n\\n\\n== Policy ==\\nPolicies to support renewable energy have been vital in their expansion. Where Europe dominated in establishing energy policy in the early 2000s, most countries around the world now have some form of energy policy.\\n\\n\\n=== Policy trends ===\\nThe International Renewable Energy Agency (IRENA) is an intergovernmental organization for promoting the adoption of renewable energy worldwide. It aims to provide concrete policy advice and facilitate capacity building and technology transfer. IRENA was formed in 2009, with 75 countries signing the charter of IRENA. As of April 2019, IRENA has 160 member states. The then United Nations Secretary-General Ban Ki-moon has said that renewable energy can lift the poorest nations to new levels of prosperity, and in September 2011 he launched the UN Sustainable Energy for All initiative to improve energy access, efficiency and the deployment of renewable energy.The 2015 Paris Agreement on climate change motivated many countries to develop or improve renewable energy policies. In 2017, a total of 121 countries adopted some form of renewable energy policy. National targets that year existed in 176 countries. In addition, there is also a wide range of policies at the state/provincial, and local levels. Some public utilities help plan or install residential energy upgrades.\\nMany national, state and local governments have created green banks. A green bank is a quasi-public financial institution that uses public capital to leverage private investment in clean energy technologies. Green banks use a variety of financial tools to bridge market gaps that hinder the deployment of clean energy.\\nClimate neutrality by the year 2050 is the main goal of the European Green Deal. For the European Union to reach their target of climate neutrality, one goal is to decarbonise its energy system by aiming to achieve \"net-zero greenhouse gas emissions by 2050.\"\\n\\n\\n=== Full renewable energy ===\\n\\n\\n== Debates ==\\n\\nRenewable electricity generation by wind and solar is variable. This results in reduced capacity factor and may require keeping some gas-fired power plants or other dispatchable generation on standby until there is enough energy storage, demand response, grid improvement, and/or base load power from non-intermittent sources like hydropower, nuclear power or bioenergy.\\nThe market for renewable energy technologies has continued to grow. Climate change concerns and increasing in green jobs, coupled with high oil prices, peak oil, oil wars, oil spills, promotion of electric vehicles and renewable electricity, nuclear disasters and increasing government support, are driving increasing renewable energy legislation, incentives and commercialization.The International Energy Agency has stated that deployment of renewable technologies usually increases the diversity of electricity sources and, through local generation, contributes to the flexibility of the system and its resistance to central shocks.\\n\\n\\n=== Public support ===\\nSolar power plants may compete with arable land, while on-shore wind farms face opposition due to aesthetic concerns and noise, which is impacting both humans and wildlife.In the United States, the Massachusetts Cape Wind project was delayed for years partly because of aesthetic concerns. However, residents in other areas have been more positive. According to a town councilor, the overwhelming majority of locals believe that the Ardrossan Wind Farm in Scotland has enhanced the area. These concerns, when directed against renewable energy, are sometimes described as \"not in my back yard\" attitude (NIMBY).\\nA 2011 UK Government document states that \"projects are generally more likely to succeed if they have broad public support and the consent of local communities. This means giving communities both a say and a stake\". In countries such as Germany and Denmark many renewable projects are owned by communities, particularly through cooperative structures, and contribute significantly to overall levels of renewable energy deployment.\\n\\n\\n=== Nuclear power proposed as renewable energy ===\\n\\n\\n=== Geopolitics ===\\n\\nFrom around 2010 onwards, the geopolitical impact of the growing use of renewable energy has been discussed. Some argue that former fossil fuels exporters will experience a weakening of their position in international affairs, while countries with abundant renewable energy resources will be strengthened. Also some countries rich in critical materials for renewable energy technologies are expected to rise in importance in international affairs.The GeGaLo index of geopolitical gains and losses assesses how the geopolitical position of 156 countries may change if the world fully transitions to renewable energy resources. Former fossil fuels exporters are expected to lose power, while the positions of former fossil fuel importers and countries rich in renewable energy resources is expected to strengthen. Sourcing of required materials, ownership of key infrastructure assets and the design of grids all require geopolitics consideration.Transitions to renewable energy have many geopolitical implications such as the potential of revenue losses leading to political instability in insufficiently prepared fossil-fuel-exporting economies, albeit it is unclear whether the transition will increase or reduce conflict overall. In particular, a study hypothesizes that a \"configuration emerges in which fossil fuel importers are better off decarbonizing, competitive fossil fuel exporters are better off flooding markets and uncompetitive fossil fuel producers—rather than benefitting from \\'free-riding\\'—suffer from their exposure to stranded assets and lack of investment in decarbonization technologies\".A study found that transition from fossil fuels to renewable energy systems reduces risks from mining, trade and political dependence because renewable energy systems don\\'t need fuel – they depend on trade only for the acquisition of materials and components during construction.Nations rich in solar and wind energy could become major energy exporters.Trade in hydrogen could fundamentally redraw the geography of the global energy trade, and international governance and investments that seek to scale up the hydrogen economy could reduce \"the risk of market fragmentation, carbon lock-in, and intensified geo-economic rivalry\". Electricity will overtake other energy carriers by 2050, accounting for almost 50% of total energy consumption (up from 22% in 2015). Given the limitations of using solely electricity, clean hydrogen has significant potential in a number of industries. Hydrogen has the potential to be long-term stored in the electricity and heating industries.In 2019, oil and gas companies were listed by Forbes with sales of US$4.8 trillion, about 5% of the global GDP. Net importers such as China and the EU would gain advantages from a transition to low-carbon technologies driven by technological development, energy efficiency or climate change policy, while Russia, the USA or Canada could see their fossil fuel industries nearly shut down. On the other hand, countries with large areas such as Australia, Russia, China, the US, Canada and Brazil and also Africa and the Middle East have a potential for huge installations of renewable energy. The production of renewable energy technologies requires rare-earth elements with new supply chains.In October 2021, European Commissioner for Climate Action Frans Timmermans suggested \"the best answer\" to the 2021 global energy crisis is \"to reduce our reliance on fossil fuels.\" He said those blaming the European Green Deal were doing so \"for perhaps ideological reasons or sometimes economic reasons in protecting their vested interests.\" Some critics blamed the European Union Emissions Trading System (EU ETS) and closure of nuclear plants for contributing to the energy crisis. European Commission President Ursula von der Leyen said that Europe is \"too reliant\" on natural gas and too dependent on natural gas imports. According to Von der Leyen, \"The answer has to do with diversifying our suppliers ... and, crucially, with speeding up the transition to clean energy.\"\\n\\n\\n=== Metal and mineral extraction ===\\nThe renewable energy transition requires increased extraction of certain metals and minerals. This impacts the environment and can lead to environmental conflict.The International Energy Agency does not recognise shortages of resources but states that supply could struggle to keep pace with the world\\'s climate ambitions. Electric vehicles (EV) and battery storage are expected to cause the most demand. Wind farms and solar PV are less consuming. The extension of electrical grids requires large amounts of copper and aluminium. The IEA recommends to scale up recycling. By 2040, quantities of copper, lithium, cobalt, and nickel from spent batteries could reduce combined primary supply requirements for these minerals by around 10%.The demand for lithium by 2040 is expected to grow by the factor of 42. Graphite and nickel exploration is predicted to grow about 20-fold. For each of the most relevant minerals and metals, a significant share of resources are concentrated in only one country: copper in Chile, nickel in Indonesia, rare earths in China, cobalt in the Democratic Republic of the Congo (DRC), and lithium in Australia. China dominates processing of them all.A controversial approach is deep sea mining. Minerals can be collected from new sources like polymetallic nodules lying on the seabed, but this could damage biodiversity.\\n\\n\\n== Health and environmental impact ==\\n\\nMoving to modern renewable energy has very large health benefits due to reducing air pollution from fossil fuels.Renewable sources other than biomass such as wind power, photovoltaics, and hydroelectricity have the advantage of being able to conserve water, lower pollution and reduce CO2 emissions.\\nSolar panels change the albedo of the surface, so if used on a very large scale (such as covering 20% of the Sahara Desert), could change global weather patterns.\\n\\n\\n=== Conservation areas, recycling and rare-earth elements ===\\n\\nInstallations used to produce wind, solar and hydropower are an increasing threat to key conservation areas, with facilities built in areas set aside for nature conservation and other environmentally sensitive areas. They are often much larger than fossil fuel power plants, needing areas of land up to 10 times greater than coal or gas to produce equivalent energy amounts. More than 2000 renewable energy facilities are built, and more are under construction, in areas of environmental importance and threaten the habitats of plant and animal species across the globe. The authors\\' team emphasized that their work should not be interpreted as anti-renewables because renewable energy is crucial for reducing carbon emissions. The key is ensuring that renewable energy facilities are built in places where they do not damage biodiversity.The transition to renewable energy depends on non-renewable resources, such as mined metals. Manufacturing of photovoltaic panels, wind turbines and batteries requires significant amounts of rare-earth elements which has significant social and environmental impact if mined in forests and protected areas. Due to co-occurrence of rare-earth and radioactive elements (thorium, uranium and radium), rare-earth mining results in production of low-level radioactive waste.In 2020 scientists published a world map of areas that contain renewable energy materials as well as estimations of their overlaps with \"Key Biodiversity Areas\", \"Remaining Wilderness\" and \"Protected Areas\". The authors assessed that careful strategic planning is needed. Solar panels are recycled to reduce electronic waste and create a source for materials that would otherwise need to be mined, but such business is still small and work is ongoing to improve and scale-up the process.\\n\\n\\n== History ==\\nPrior to the development of coal in the mid 19th century, nearly all energy used was renewable. The oldest known use of renewable energy, in the form of traditional biomass to fuel fires, dates from more than a million years ago. The use of biomass for fire did not become commonplace until many hundreds of thousands of years later. Probably the second oldest usage of renewable energy is harnessing the wind in order to drive ships over water. This practice can be traced back some 7000 years, to ships in the Persian Gulf and on the Nile. From hot springs, geothermal energy has been used for bathing since Paleolithic times and for space heating since ancient Roman times. Moving into the time of recorded history, the primary sources of traditional renewable energy were human labor, animal power, water power, wind, in grain crushing windmills, and firewood, a traditional biomass.\\nIn 1885, Werner Siemens, commenting on the discovery of the photovoltaic effect in the solid state, wrote:\\n\\nIn conclusion, I would say that however great the scientific importance of this discovery may be, its practical value will be no less obvious when we reflect that the supply of solar energy is both without limit and without cost, and that it will continue to pour down upon us for countless ages after all the coal deposits of the earth have been exhausted and forgotten.\\nMax Weber mentioned the end of fossil fuel in the concluding paragraphs of his Die protestantische Ethik und der Geist des Kapitalismus (The Protestant Ethic and the Spirit of Capitalism), published in 1905. Development of solar engines continued until the outbreak of World War I. The importance of solar energy was recognized in a 1911 Scientific American article: \"in the far distant future, natural fuels having been exhausted [solar power] will remain as the only means of existence of the human race\".The theory of peak oil was published in 1956. In the 1970s environmentalists promoted the development of renewable energy both as a replacement for the eventual depletion of oil, as well as for an escape from dependence on oil, and the first electricity-generating wind turbines appeared. Solar had long been used for heating and cooling, but solar panels were too costly to build solar farms until 1980.New government spending, regulation and policies helped the industry weather the 2009 economic crisis better than many other sectors.\\n\\n\\n== See also ==\\n\\n\\n== References ==\\n\\n\\n=== Sources ===\\n\\n\"Renewable Power Generation Costs in 2019\" (PDF). IRENA. 2020.\\n\"Renewable Capacity Statistics 2020\". IRENA. 2020.\\n\"Renewable Energy Statistics 2020\". IRENA. 2020.\\n\\n\\n== External links ==\\n\\n\"Renewable Power Generation Costs in 2022\" (PDF). IRENA.org. International Renewable Energy Agency (IRENA). 2022. Archived (PDF) from the original on 30 August 2023. ISBN 978-92-9260-544-5.\\nOverview of clean energy from the United States Department of Energy\\nEnergypedia – a wiki platform for collaborative knowledge exchange on renewable energy in developing countries\\nCountries not on track to reach 100% renewable energy systems'"
      ]
     },
     "execution_count": 7,
     "metadata": {},
     "output_type": "execute_result"
    }
   ],
   "source": [
    "page = wikipedia.page(search_results[0])\n",
    "page.content"
   ]
  },
  {
   "cell_type": "code",
   "execution_count": 8,
   "metadata": {
    "id": "ZF3BiZyXltYO"
   },
   "outputs": [],
   "source": [
    "#page.content\n",
    "def get_wikipedia_content(page_title):\n",
    "    search_results = wikipedia.search(page_title)\n",
    "    page = wikipedia.page(search_results[0])\n",
    "    return(page.content)"
   ]
  },
  {
   "cell_type": "code",
   "execution_count": 9,
   "metadata": {
    "id": "Ef7yfa2jl0iZ"
   },
   "outputs": [],
   "source": [
    "content = get_wikipedia_content(page_title)"
   ]
  },
  {
   "cell_type": "markdown",
   "metadata": {
    "id": "_9aruncMmubX"
   },
   "source": [
    "# 3.) Build a chatgpt bot that will analyze the text given and try to locate any false info"
   ]
  },
  {
   "cell_type": "code",
   "execution_count": 10,
   "metadata": {
    "id": "Bmai3B6Dmw3O"
   },
   "outputs": [],
   "source": [
    "chat_completion  = client.chat.completions.create(\n",
    "    model = \"gpt-4\", # Quote\n",
    "    messages = [{\"role\" : \"system\", \"content\" : \"You're a summary assistant at wekepedia, i will pass you an article and please tell me if any of the information is false\"},\n",
    "              {\"role\" : \"user\", \"content\" : content[:8192]}] \n",
    ")"
   ]
  },
  {
   "cell_type": "code",
   "execution_count": 11,
   "metadata": {},
   "outputs": [
    {
     "data": {
      "text/plain": [
       "\"The information provided is accurate and provides a well-rounded insight into the field of renewable energy, its sources, benefits, uses, associated jobs, and future growth. The fact that renewable resources - including sunlight, wind, water movement, and geothermal heat - are naturally renewable and contrast fossil fuels which are rapidly depleting, is correctly stated. The increase in the global electricity supply from renewable sources from 20% in 2011 to 28% in 2021, the job opportunities in the sector, as well as the obstacles that hinder the growth of renewables are also well represented. The detailed breakdown of the contribution of different renewable sources like solar and wind power, the drop in hydropower's share, the growth of biomass and geothermal energy, is confirmed. Information regarding the rise in the use and efficiency of renewable energy, and its increasing affordability is correctly indicated. The emphasis on achieving net zero emissions by 2050 from the International Energy Agency (IEA) also holds true.\""
      ]
     },
     "execution_count": 11,
     "metadata": {},
     "output_type": "execute_result"
    }
   ],
   "source": [
    "chat_completion.choices[0].message.content"
   ]
  },
  {
   "cell_type": "code",
   "execution_count": 12,
   "metadata": {
    "id": "_TMKFGN4nDJ4"
   },
   "outputs": [],
   "source": [
    "def chatgpt_error_correction(text):\n",
    "    chat_completion  = client.chat.completions.create(\n",
    "    model = \"gpt-4\",\n",
    "    messages = [{\"role\" : \"system\", \"content\" : \"I will be giving you an article let me know if anything is potentially false.  Go with afine tooth comb and have low sensitivity and locating potential errors. If there is errors please number them and be very concise when quoting them. If there is no potential errors found then just return 'NONE'\"},\n",
    "              {\"role\" : \"user\", \"content\" : text[:8192]}] # List\n",
    ")\n",
    "    return print(chat_completion.choices[0].message.content)"
   ]
  },
  {
   "cell_type": "code",
   "execution_count": null,
   "metadata": {
    "id": "6FKAJVXSoayA"
   },
   "outputs": [],
   "source": []
  },
  {
   "cell_type": "markdown",
   "metadata": {
    "id": "zPw5LyPEobmk"
   },
   "source": [
    "# 4.) Make a for loop and check a few wikipedia pages and return a report of any potentially false info via wikipedia"
   ]
  },
  {
   "cell_type": "code",
   "execution_count": 13,
   "metadata": {},
   "outputs": [
    {
     "name": "stdout",
     "output_type": "stream",
     "text": [
      "__________________Artificial Intelligence\n",
      "NONE\n",
      "None\n",
      "__________________UCLA\n",
      "1. \"It received 174,914 undergraduate applications for Fall 2022, including transfers, making it the most applied-to university in the United States.\" This statement could be incorrect as it depends on the source of data and the year the article was written. It would require verification from a reliable source for the year mentioned.\n",
      "\n",
      "2. \"Six of the schools offer undergraduate degree programs: Arts and Architecture, Engineering and Applied Science, Music, Nursing, Public Affairs, and Theater, Film and Television.\" UCLA has more undergraduate schools it includes the School of Theater, Film, and Television as an undergraduate school, not Public Affairs. There is an undergraduate program in Public Affairs, but it is housed within the Luskin School of Public Affairs, which is primarily a graduate school.\n",
      "\n",
      "3. \"On June 1, 2016, two men were killed in a murder-suicide at an engineering building in the university.\" This statement is misleading. There were not two men killed in the murder-suicide, but rather one man was murdered and the perpetrator committed suicide.\n",
      "\n",
      "4. \"In February 2022, Matthew Harris, a former lecturer and postdoctoral fellow at UCLA, was arrested after allegedly making numerous threats of violence against students and faculty members of UCLA's Philosophy Department.\" This statement is yet to be verified as it pertains to a recent event, and the accuracy of this statement depends on the source of the data.\n",
      "\n",
      "5. \"In 2014, a graduate student adviser and professor in the history department, Gabriel Piterberg, was accused of sexually assaulting two students.\" This statement may need verification with the official sources due to its sensitive nature. It's also unclear from this statement what the outcome of these accusations was.\n",
      "\n",
      "6. \"The Regents announced the new \"Beverly Site\" — just west of Beverly Hills — in 1925.\" The term \"Beverly Site\" is incorrect. The location of the new campus was referred to as the \"Westwood site\" or \"Westwood location.\"\n",
      "None\n"
     ]
    }
   ],
   "source": [
    "page_titles = [\"Artificial Intelligence\", \"UCLA\"]\n",
    "for page_title in page_titles:\n",
    "    print(\"__________________\" + page_title)\n",
    "    try:\n",
    "        text =  get_wikipedia_content(page_title)\n",
    "        print(chatgpt_error_correction(text[:8192]))\n",
    "    except:\n",
    "        print(\"ERROR\")"
   ]
  },
  {
   "cell_type": "code",
   "execution_count": null,
   "metadata": {},
   "outputs": [],
   "source": []
  }
 ],
 "metadata": {
  "colab": {
   "provenance": []
  },
  "kernelspec": {
   "display_name": "Python 3 (ipykernel)",
   "language": "python",
   "name": "python3"
  },
  "language_info": {
   "codemirror_mode": {
    "name": "ipython",
    "version": 3
   },
   "file_extension": ".py",
   "mimetype": "text/x-python",
   "name": "python",
   "nbconvert_exporter": "python",
   "pygments_lexer": "ipython3",
   "version": "3.10.4"
  }
 },
 "nbformat": 4,
 "nbformat_minor": 1
}
